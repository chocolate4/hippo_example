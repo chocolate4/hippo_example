{
 "cells": [
  {
   "cell_type": "markdown",
   "source": [
    "## Similarity Search with Hippo and OpenAI\n",
    "\n",
    "This page discusses the integration of a vector database with OpenAI's Embedding API and OpenAI's Chat API.\n",
    "\n",
    "We will showcase how OpenAI's Embedding API can be used with our vector database to turn user questions into Hippo query conditions. Then, by conducting a similarity search, we can find text that can answer the user's question. Next, the user's question and text are concatenated into a prompt, which serves as the input for OpenAI's Chat API. Finally, we receive a response from the Chat API offered by OpenAI.\n",
    "\n",
    "## Getting Started\n",
    "\n",
    "The only prerequisite here is an API key from the OpenAI website. Make sure you have already started a Hippo instance."
   ],
   "metadata": {
    "collapsed": false
   },
   "id": "357f24224a8e818f"
  },
  {
   "cell_type": "markdown",
   "source": [
    "## Installing Dependencies\n",
    "\n",
    "Initially, we require the installation of certain dependencies, such as OpenAI, Langchain, and Hippo-API. Please note, you should install the appropriate versions tailored to your environment."
   ],
   "metadata": {
    "collapsed": false
   },
   "id": "a92d2ce26df7ac4c"
  },
  {
   "cell_type": "code",
   "execution_count": 1,
   "outputs": [
    {
     "name": "stdout",
     "output_type": "stream",
     "text": [
      "Requirement already satisfied: hippo-api in /Users/daochengzhang/miniforge3/envs/hippo-python38/lib/python3.8/site-packages (1.0.0rc4)\r\n",
      "Requirement already satisfied: requests>=2.22.0 in /Users/daochengzhang/miniforge3/envs/hippo-python38/lib/python3.8/site-packages (from hippo-api) (2.31.0)\r\n",
      "Requirement already satisfied: responses>=0.23.1 in /Users/daochengzhang/miniforge3/envs/hippo-python38/lib/python3.8/site-packages (from hippo-api) (0.23.3)\r\n",
      "Requirement already satisfied: pyyaml>=6.0 in /Users/daochengzhang/miniforge3/envs/hippo-python38/lib/python3.8/site-packages (from hippo-api) (6.0.1)\r\n",
      "Requirement already satisfied: bs4>=0.0.1 in /Users/daochengzhang/miniforge3/envs/hippo-python38/lib/python3.8/site-packages (from hippo-api) (0.0.1)\r\n",
      "Requirement already satisfied: openai in /Users/daochengzhang/miniforge3/envs/hippo-python38/lib/python3.8/site-packages (from hippo-api) (0.27.8)\r\n",
      "Requirement already satisfied: beautifulsoup4 in /Users/daochengzhang/miniforge3/envs/hippo-python38/lib/python3.8/site-packages (from bs4>=0.0.1->hippo-api) (4.12.2)\r\n",
      "Requirement already satisfied: charset-normalizer<4,>=2 in /Users/daochengzhang/miniforge3/envs/hippo-python38/lib/python3.8/site-packages (from requests>=2.22.0->hippo-api) (3.2.0)\r\n",
      "Requirement already satisfied: idna<4,>=2.5 in /Users/daochengzhang/miniforge3/envs/hippo-python38/lib/python3.8/site-packages (from requests>=2.22.0->hippo-api) (3.4)\r\n",
      "Requirement already satisfied: urllib3<3,>=1.21.1 in /Users/daochengzhang/miniforge3/envs/hippo-python38/lib/python3.8/site-packages (from requests>=2.22.0->hippo-api) (1.26.16)\r\n",
      "Requirement already satisfied: certifi>=2017.4.17 in /Users/daochengzhang/miniforge3/envs/hippo-python38/lib/python3.8/site-packages (from requests>=2.22.0->hippo-api) (2023.7.22)\r\n",
      "Requirement already satisfied: types-PyYAML in /Users/daochengzhang/miniforge3/envs/hippo-python38/lib/python3.8/site-packages (from responses>=0.23.1->hippo-api) (6.0.12.11)\r\n",
      "Requirement already satisfied: tqdm in /Users/daochengzhang/miniforge3/envs/hippo-python38/lib/python3.8/site-packages (from openai->hippo-api) (4.66.1)\r\n",
      "Requirement already satisfied: aiohttp in /Users/daochengzhang/miniforge3/envs/hippo-python38/lib/python3.8/site-packages (from openai->hippo-api) (3.8.5)\r\n",
      "Requirement already satisfied: attrs>=17.3.0 in /Users/daochengzhang/miniforge3/envs/hippo-python38/lib/python3.8/site-packages (from aiohttp->openai->hippo-api) (23.1.0)\r\n",
      "Requirement already satisfied: multidict<7.0,>=4.5 in /Users/daochengzhang/miniforge3/envs/hippo-python38/lib/python3.8/site-packages (from aiohttp->openai->hippo-api) (6.0.4)\r\n",
      "Requirement already satisfied: async-timeout<5.0,>=4.0.0a3 in /Users/daochengzhang/miniforge3/envs/hippo-python38/lib/python3.8/site-packages (from aiohttp->openai->hippo-api) (4.0.3)\r\n",
      "Requirement already satisfied: yarl<2.0,>=1.0 in /Users/daochengzhang/miniforge3/envs/hippo-python38/lib/python3.8/site-packages (from aiohttp->openai->hippo-api) (1.9.2)\r\n",
      "Requirement already satisfied: frozenlist>=1.1.1 in /Users/daochengzhang/miniforge3/envs/hippo-python38/lib/python3.8/site-packages (from aiohttp->openai->hippo-api) (1.4.0)\r\n",
      "Requirement already satisfied: aiosignal>=1.1.2 in /Users/daochengzhang/miniforge3/envs/hippo-python38/lib/python3.8/site-packages (from aiohttp->openai->hippo-api) (1.3.1)\r\n",
      "Requirement already satisfied: soupsieve>1.2 in /Users/daochengzhang/miniforge3/envs/hippo-python38/lib/python3.8/site-packages (from beautifulsoup4->bs4>=0.0.1->hippo-api) (2.4.1)\r\n",
      "Requirement already satisfied: langchain==0.0.220 in /Users/daochengzhang/miniforge3/envs/hippo-python38/lib/python3.8/site-packages (0.0.220)\r\n",
      "Requirement already satisfied: PyYAML>=5.4.1 in /Users/daochengzhang/miniforge3/envs/hippo-python38/lib/python3.8/site-packages (from langchain==0.0.220) (6.0.1)\r\n",
      "Requirement already satisfied: SQLAlchemy<3,>=1.4 in /Users/daochengzhang/miniforge3/envs/hippo-python38/lib/python3.8/site-packages (from langchain==0.0.220) (2.0.20)\r\n",
      "Requirement already satisfied: aiohttp<4.0.0,>=3.8.3 in /Users/daochengzhang/miniforge3/envs/hippo-python38/lib/python3.8/site-packages (from langchain==0.0.220) (3.8.5)\r\n",
      "Requirement already satisfied: async-timeout<5.0.0,>=4.0.0 in /Users/daochengzhang/miniforge3/envs/hippo-python38/lib/python3.8/site-packages (from langchain==0.0.220) (4.0.3)\r\n",
      "Requirement already satisfied: dataclasses-json<0.6.0,>=0.5.7 in /Users/daochengzhang/miniforge3/envs/hippo-python38/lib/python3.8/site-packages (from langchain==0.0.220) (0.5.7)\r\n",
      "Requirement already satisfied: langchainplus-sdk>=0.0.17 in /Users/daochengzhang/miniforge3/envs/hippo-python38/lib/python3.8/site-packages (from langchain==0.0.220) (0.0.20)\r\n",
      "Requirement already satisfied: numexpr<3.0.0,>=2.8.4 in /Users/daochengzhang/miniforge3/envs/hippo-python38/lib/python3.8/site-packages (from langchain==0.0.220) (2.8.4)\r\n",
      "Requirement already satisfied: numpy<2,>=1 in /Users/daochengzhang/miniforge3/envs/hippo-python38/lib/python3.8/site-packages (from langchain==0.0.220) (1.24.4)\r\n",
      "Requirement already satisfied: openapi-schema-pydantic<2.0,>=1.2 in /Users/daochengzhang/miniforge3/envs/hippo-python38/lib/python3.8/site-packages (from langchain==0.0.220) (1.2.4)\r\n",
      "Requirement already satisfied: pydantic<2,>=1 in /Users/daochengzhang/miniforge3/envs/hippo-python38/lib/python3.8/site-packages (from langchain==0.0.220) (1.10.12)\r\n",
      "Requirement already satisfied: requests<3,>=2 in /Users/daochengzhang/miniforge3/envs/hippo-python38/lib/python3.8/site-packages (from langchain==0.0.220) (2.31.0)\r\n",
      "Requirement already satisfied: tenacity<9.0.0,>=8.1.0 in /Users/daochengzhang/miniforge3/envs/hippo-python38/lib/python3.8/site-packages (from langchain==0.0.220) (8.2.3)\r\n",
      "Requirement already satisfied: attrs>=17.3.0 in /Users/daochengzhang/miniforge3/envs/hippo-python38/lib/python3.8/site-packages (from aiohttp<4.0.0,>=3.8.3->langchain==0.0.220) (23.1.0)\r\n",
      "Requirement already satisfied: charset-normalizer<4.0,>=2.0 in /Users/daochengzhang/miniforge3/envs/hippo-python38/lib/python3.8/site-packages (from aiohttp<4.0.0,>=3.8.3->langchain==0.0.220) (3.2.0)\r\n",
      "Requirement already satisfied: multidict<7.0,>=4.5 in /Users/daochengzhang/miniforge3/envs/hippo-python38/lib/python3.8/site-packages (from aiohttp<4.0.0,>=3.8.3->langchain==0.0.220) (6.0.4)\r\n",
      "Requirement already satisfied: yarl<2.0,>=1.0 in /Users/daochengzhang/miniforge3/envs/hippo-python38/lib/python3.8/site-packages (from aiohttp<4.0.0,>=3.8.3->langchain==0.0.220) (1.9.2)\r\n",
      "Requirement already satisfied: frozenlist>=1.1.1 in /Users/daochengzhang/miniforge3/envs/hippo-python38/lib/python3.8/site-packages (from aiohttp<4.0.0,>=3.8.3->langchain==0.0.220) (1.4.0)\r\n",
      "Requirement already satisfied: aiosignal>=1.1.2 in /Users/daochengzhang/miniforge3/envs/hippo-python38/lib/python3.8/site-packages (from aiohttp<4.0.0,>=3.8.3->langchain==0.0.220) (1.3.1)\r\n",
      "Requirement already satisfied: marshmallow<4.0.0,>=3.3.0 in /Users/daochengzhang/miniforge3/envs/hippo-python38/lib/python3.8/site-packages (from dataclasses-json<0.6.0,>=0.5.7->langchain==0.0.220) (3.20.1)\r\n",
      "Requirement already satisfied: marshmallow-enum<2.0.0,>=1.5.1 in /Users/daochengzhang/miniforge3/envs/hippo-python38/lib/python3.8/site-packages (from dataclasses-json<0.6.0,>=0.5.7->langchain==0.0.220) (1.5.1)\r\n",
      "Requirement already satisfied: typing-inspect>=0.4.0 in /Users/daochengzhang/miniforge3/envs/hippo-python38/lib/python3.8/site-packages (from dataclasses-json<0.6.0,>=0.5.7->langchain==0.0.220) (0.9.0)\r\n",
      "Requirement already satisfied: typing-extensions>=4.2.0 in /Users/daochengzhang/miniforge3/envs/hippo-python38/lib/python3.8/site-packages (from pydantic<2,>=1->langchain==0.0.220) (4.7.1)\r\n",
      "Requirement already satisfied: idna<4,>=2.5 in /Users/daochengzhang/miniforge3/envs/hippo-python38/lib/python3.8/site-packages (from requests<3,>=2->langchain==0.0.220) (3.4)\r\n",
      "Requirement already satisfied: urllib3<3,>=1.21.1 in /Users/daochengzhang/miniforge3/envs/hippo-python38/lib/python3.8/site-packages (from requests<3,>=2->langchain==0.0.220) (1.26.16)\r\n",
      "Requirement already satisfied: certifi>=2017.4.17 in /Users/daochengzhang/miniforge3/envs/hippo-python38/lib/python3.8/site-packages (from requests<3,>=2->langchain==0.0.220) (2023.7.22)\r\n",
      "Requirement already satisfied: packaging>=17.0 in /Users/daochengzhang/miniforge3/envs/hippo-python38/lib/python3.8/site-packages (from marshmallow<4.0.0,>=3.3.0->dataclasses-json<0.6.0,>=0.5.7->langchain==0.0.220) (23.1)\r\n",
      "Requirement already satisfied: mypy-extensions>=0.3.0 in /Users/daochengzhang/miniforge3/envs/hippo-python38/lib/python3.8/site-packages (from typing-inspect>=0.4.0->dataclasses-json<0.6.0,>=0.5.7->langchain==0.0.220) (1.0.0)\r\n",
      "Requirement already satisfied: unstructured==0.9.1 in /Users/daochengzhang/miniforge3/envs/hippo-python38/lib/python3.8/site-packages (0.9.1)\r\n",
      "Requirement already satisfied: chardet in /Users/daochengzhang/miniforge3/envs/hippo-python38/lib/python3.8/site-packages (from unstructured==0.9.1) (5.2.0)\r\n",
      "Requirement already satisfied: filetype in /Users/daochengzhang/miniforge3/envs/hippo-python38/lib/python3.8/site-packages (from unstructured==0.9.1) (1.2.0)\r\n",
      "Requirement already satisfied: python-magic in /Users/daochengzhang/miniforge3/envs/hippo-python38/lib/python3.8/site-packages (from unstructured==0.9.1) (0.4.27)\r\n",
      "Requirement already satisfied: lxml in /Users/daochengzhang/miniforge3/envs/hippo-python38/lib/python3.8/site-packages (from unstructured==0.9.1) (4.9.3)\r\n",
      "Requirement already satisfied: nltk in /Users/daochengzhang/miniforge3/envs/hippo-python38/lib/python3.8/site-packages (from unstructured==0.9.1) (3.8.1)\r\n",
      "Requirement already satisfied: tabulate in /Users/daochengzhang/miniforge3/envs/hippo-python38/lib/python3.8/site-packages (from unstructured==0.9.1) (0.9.0)\r\n",
      "Requirement already satisfied: requests in /Users/daochengzhang/miniforge3/envs/hippo-python38/lib/python3.8/site-packages (from unstructured==0.9.1) (2.31.0)\r\n",
      "Requirement already satisfied: click in /Users/daochengzhang/miniforge3/envs/hippo-python38/lib/python3.8/site-packages (from nltk->unstructured==0.9.1) (8.1.7)\r\n",
      "Requirement already satisfied: joblib in /Users/daochengzhang/miniforge3/envs/hippo-python38/lib/python3.8/site-packages (from nltk->unstructured==0.9.1) (1.3.2)\r\n",
      "Requirement already satisfied: regex>=2021.8.3 in /Users/daochengzhang/miniforge3/envs/hippo-python38/lib/python3.8/site-packages (from nltk->unstructured==0.9.1) (2023.8.8)\r\n",
      "Requirement already satisfied: tqdm in /Users/daochengzhang/miniforge3/envs/hippo-python38/lib/python3.8/site-packages (from nltk->unstructured==0.9.1) (4.66.1)\r\n",
      "Requirement already satisfied: charset-normalizer<4,>=2 in /Users/daochengzhang/miniforge3/envs/hippo-python38/lib/python3.8/site-packages (from requests->unstructured==0.9.1) (3.2.0)\r\n",
      "Requirement already satisfied: idna<4,>=2.5 in /Users/daochengzhang/miniforge3/envs/hippo-python38/lib/python3.8/site-packages (from requests->unstructured==0.9.1) (3.4)\r\n",
      "Requirement already satisfied: urllib3<3,>=1.21.1 in /Users/daochengzhang/miniforge3/envs/hippo-python38/lib/python3.8/site-packages (from requests->unstructured==0.9.1) (1.26.16)\r\n",
      "Requirement already satisfied: certifi>=2017.4.17 in /Users/daochengzhang/miniforge3/envs/hippo-python38/lib/python3.8/site-packages (from requests->unstructured==0.9.1) (2023.7.22)\r\n",
      "Requirement already satisfied: markdown==3.4.4 in /Users/daochengzhang/miniforge3/envs/hippo-python38/lib/python3.8/site-packages (3.4.4)\r\n",
      "Requirement already satisfied: importlib-metadata>=4.4 in /Users/daochengzhang/miniforge3/envs/hippo-python38/lib/python3.8/site-packages (from markdown==3.4.4) (6.8.0)\r\n",
      "Requirement already satisfied: zipp>=0.5 in /Users/daochengzhang/miniforge3/envs/hippo-python38/lib/python3.8/site-packages (from importlib-metadata>=4.4->markdown==3.4.4) (3.16.2)\r\n",
      "Requirement already satisfied: tiktoken==0.4.0 in /Users/daochengzhang/miniforge3/envs/hippo-python38/lib/python3.8/site-packages (0.4.0)\r\n",
      "Requirement already satisfied: regex>=2022.1.18 in /Users/daochengzhang/miniforge3/envs/hippo-python38/lib/python3.8/site-packages (from tiktoken==0.4.0) (2023.8.8)\r\n",
      "Requirement already satisfied: requests>=2.26.0 in /Users/daochengzhang/miniforge3/envs/hippo-python38/lib/python3.8/site-packages (from tiktoken==0.4.0) (2.31.0)\r\n",
      "Requirement already satisfied: charset-normalizer<4,>=2 in /Users/daochengzhang/miniforge3/envs/hippo-python38/lib/python3.8/site-packages (from requests>=2.26.0->tiktoken==0.4.0) (3.2.0)\r\n",
      "Requirement already satisfied: idna<4,>=2.5 in /Users/daochengzhang/miniforge3/envs/hippo-python38/lib/python3.8/site-packages (from requests>=2.26.0->tiktoken==0.4.0) (3.4)\r\n",
      "Requirement already satisfied: urllib3<3,>=1.21.1 in /Users/daochengzhang/miniforge3/envs/hippo-python38/lib/python3.8/site-packages (from requests>=2.26.0->tiktoken==0.4.0) (1.26.16)\r\n",
      "Requirement already satisfied: certifi>=2017.4.17 in /Users/daochengzhang/miniforge3/envs/hippo-python38/lib/python3.8/site-packages (from requests>=2.26.0->tiktoken==0.4.0) (2023.7.22)\r\n",
      "Requirement already satisfied: openai==0.27.8 in /Users/daochengzhang/miniforge3/envs/hippo-python38/lib/python3.8/site-packages (0.27.8)\r\n",
      "Requirement already satisfied: requests>=2.20 in /Users/daochengzhang/miniforge3/envs/hippo-python38/lib/python3.8/site-packages (from openai==0.27.8) (2.31.0)\r\n",
      "Requirement already satisfied: tqdm in /Users/daochengzhang/miniforge3/envs/hippo-python38/lib/python3.8/site-packages (from openai==0.27.8) (4.66.1)\r\n",
      "Requirement already satisfied: aiohttp in /Users/daochengzhang/miniforge3/envs/hippo-python38/lib/python3.8/site-packages (from openai==0.27.8) (3.8.5)\r\n",
      "Requirement already satisfied: charset-normalizer<4,>=2 in /Users/daochengzhang/miniforge3/envs/hippo-python38/lib/python3.8/site-packages (from requests>=2.20->openai==0.27.8) (3.2.0)\r\n",
      "Requirement already satisfied: idna<4,>=2.5 in /Users/daochengzhang/miniforge3/envs/hippo-python38/lib/python3.8/site-packages (from requests>=2.20->openai==0.27.8) (3.4)\r\n",
      "Requirement already satisfied: urllib3<3,>=1.21.1 in /Users/daochengzhang/miniforge3/envs/hippo-python38/lib/python3.8/site-packages (from requests>=2.20->openai==0.27.8) (1.26.16)\r\n",
      "Requirement already satisfied: certifi>=2017.4.17 in /Users/daochengzhang/miniforge3/envs/hippo-python38/lib/python3.8/site-packages (from requests>=2.20->openai==0.27.8) (2023.7.22)\r\n",
      "Requirement already satisfied: attrs>=17.3.0 in /Users/daochengzhang/miniforge3/envs/hippo-python38/lib/python3.8/site-packages (from aiohttp->openai==0.27.8) (23.1.0)\r\n",
      "Requirement already satisfied: multidict<7.0,>=4.5 in /Users/daochengzhang/miniforge3/envs/hippo-python38/lib/python3.8/site-packages (from aiohttp->openai==0.27.8) (6.0.4)\r\n",
      "Requirement already satisfied: async-timeout<5.0,>=4.0.0a3 in /Users/daochengzhang/miniforge3/envs/hippo-python38/lib/python3.8/site-packages (from aiohttp->openai==0.27.8) (4.0.3)\r\n",
      "Requirement already satisfied: yarl<2.0,>=1.0 in /Users/daochengzhang/miniforge3/envs/hippo-python38/lib/python3.8/site-packages (from aiohttp->openai==0.27.8) (1.9.2)\r\n",
      "Requirement already satisfied: frozenlist>=1.1.1 in /Users/daochengzhang/miniforge3/envs/hippo-python38/lib/python3.8/site-packages (from aiohttp->openai==0.27.8) (1.4.0)\r\n",
      "Requirement already satisfied: aiosignal>=1.1.2 in /Users/daochengzhang/miniforge3/envs/hippo-python38/lib/python3.8/site-packages (from aiohttp->openai==0.27.8) (1.3.1)\r\n"
     ]
    }
   ],
   "source": [
    "!pip install hippo-api==1.1.0rc3\n",
    "!pip install langchain\n",
    "!pip install tiktoken\n",
    "!pip install openai"
   ],
   "metadata": {
    "collapsed": false,
    "ExecuteTime": {
     "end_time": "2023-09-22T08:42:16.398815Z",
     "start_time": "2023-09-22T08:42:06.879047Z"
    }
   },
   "id": "13b1d1ae153ff434"
  },
  {
   "cell_type": "markdown",
   "source": [
    "Note: Python version needs to be >=3.8.\n",
    "\n",
    "## Best Practice\n",
    "### Importing Dependency Packages"
   ],
   "metadata": {
    "collapsed": false
   },
   "id": "554081137df2c252"
  },
  {
   "cell_type": "code",
   "execution_count": 2,
   "outputs": [],
   "source": [
    "from langchain.chat_models import AzureChatOpenAI, ChatOpenAI\n",
    "from langchain.document_loaders import TextLoader\n",
    "from langchain.embeddings import OpenAIEmbeddings\n",
    "from langchain.schema import Document\n",
    "from langchain.text_splitter import RecursiveCharacterTextSplitter\n",
    "\n",
    "import re\n",
    "from transwarp_hippo_langchain.hippo_langchain import Hippo"
   ],
   "metadata": {
    "collapsed": false,
    "ExecuteTime": {
     "end_time": "2023-09-22T08:42:17.234673Z",
     "start_time": "2023-09-22T08:42:16.401351Z"
    }
   },
   "id": "5ff3296ce812aeb8"
  },
  {
   "cell_type": "markdown",
   "source": [
    "### Loading Knowledge Documents"
   ],
   "metadata": {
    "collapsed": false
   },
   "id": "dad255dae8aea755"
  },
  {
   "cell_type": "code",
   "execution_count": 3,
   "outputs": [],
   "source": [
    "loader = TextLoader('./content/hippo.txt')\n",
    "docs = loader.load()\n",
    "page_content = re.sub(\"[\\n\\r\\t]\", \"\", docs[0].page_content)\n",
    "meta = docs[0].metadata\n",
    "docs = [Document(page_content=page_content, metadata=meta)]"
   ],
   "metadata": {
    "collapsed": false,
    "ExecuteTime": {
     "end_time": "2023-09-22T08:42:24.549823Z",
     "start_time": "2023-09-22T08:42:23.916298Z"
    }
   },
   "id": "f02d66a7fd653dc1"
  },
  {
   "cell_type": "markdown",
   "source": [
    "### Segmenting the Knowledge Document\n",
    "\n",
    "Here, we use Langchain's RecursiveCharacterTextSplitter for segmentation. The delimiter is a period. After segmentation, the text segment does not exceed 2000 characters, and the number of repeated characters is 200."
   ],
   "metadata": {
    "collapsed": false
   },
   "id": "e9b93c330f1c6160"
  },
  {
   "cell_type": "code",
   "execution_count": 4,
   "outputs": [],
   "source": [
    "text_splitter = RecursiveCharacterTextSplitter(separators='.', chunk_size=2000, chunk_overlap=200)\n",
    "docs = text_splitter.split_documents(docs)"
   ],
   "metadata": {
    "collapsed": false,
    "ExecuteTime": {
     "end_time": "2023-09-22T08:42:31.979807Z",
     "start_time": "2023-09-22T08:42:31.951866Z"
    }
   },
   "id": "fe6b43175318331f"
  },
  {
   "cell_type": "markdown",
   "source": [
    "### Declaring the Embedding Model\n",
    "Below, we create the OpenAI or Azure embedding model using the OpenAIEmbeddings method from Langchain."
   ],
   "metadata": {
    "collapsed": false
   },
   "id": "eefe28c7c993ffdf"
  },
  {
   "cell_type": "code",
   "execution_count": 5,
   "outputs": [],
   "source": [
    "#openai\n",
    "embeddings = OpenAIEmbeddings(openai_api_key=\"xxx\",\n",
    "                                  model=\"text-embedding-ada-002\")\n",
    "#azure\n",
    "# embeddings = OpenAIEmbeddings(\n",
    "#     openai_api_type=\"azure\",\n",
    "#     openai_api_base=\"x x x\",\n",
    "#     openai_api_version=\"x x x\",\n",
    "#     model=\"x x x\",\n",
    "#     deployment=\"x x x\",\n",
    "#     openai_api_key=\"x x x\"\n",
    "# )"
   ],
   "metadata": {
    "collapsed": false,
    "ExecuteTime": {
     "end_time": "2023-09-22T08:42:33.806790Z",
     "start_time": "2023-09-22T08:42:33.772300Z"
    }
   },
   "id": "8619f16b9f7355ea"
  },
  {
   "cell_type": "markdown",
   "source": [
    "### Declaring Hippo Client"
   ],
   "metadata": {
    "collapsed": false
   },
   "id": "e60235602ed91d3c"
  },
  {
   "cell_type": "code",
   "execution_count": 6,
   "outputs": [],
   "source": [
    "HIPPO_CONNECTION = {\n",
    "    \"host\": \"ip\",\n",
    "    \"port\": \"port\",\n",
    "    \"username\": \"xxx\",\n",
    "    \"password\": \"xxx\"\n",
    "}"
   ],
   "metadata": {
    "collapsed": false,
    "ExecuteTime": {
     "end_time": "2023-09-22T08:42:36.986032Z",
     "start_time": "2023-09-22T08:42:36.980525Z"
    }
   },
   "id": "c666b70dcab78129"
  },
  {
   "cell_type": "markdown",
   "source": [
    "### Storing the Document"
   ],
   "metadata": {
    "collapsed": false
   },
   "id": "43ee6dbd765c3172"
  },
  {
   "cell_type": "code",
   "execution_count": 7,
   "outputs": [
    {
     "name": "stdout",
     "output_type": "stream",
     "text": [
      "input...\n",
      "BODY: {'settings': {'number_of_shards': 1, 'number_of_replicas': 1}, 'schema': {'auto_id': False, 'fields': [{'name': 'pk', 'is_primary_key': True, 'data_type': 'int64', 'type_params': {}}, {'name': 'text', 'is_primary_key': False, 'data_type': 'string', 'type_params': {}}, {'name': 'vector', 'is_primary_key': False, 'data_type': 'float_vector', 'type_params': {'dimension': 1536}}, {'name': 'source', 'is_primary_key': False, 'data_type': 'string', 'type_params': {}}]}}\n",
      "success\n"
     ]
    }
   ],
   "source": [
    "print(\"input...\")\n",
    "\n",
    "# insert docs\n",
    "vector_store = Hippo.from_documents(\n",
    "    docs,\n",
    "    embedding=embeddings,\n",
    "    table_name=\"knowledge_qa\",\n",
    "    connection_args=HIPPO_CONNECTION\n",
    ")\n",
    "print(\"success\")"
   ],
   "metadata": {
    "collapsed": false,
    "ExecuteTime": {
     "end_time": "2023-09-22T08:42:58.372253Z",
     "start_time": "2023-09-22T08:42:38.736317Z"
    }
   },
   "id": "79372c869844bdc9"
  },
  {
   "cell_type": "markdown",
   "source": [
    "### Conducting Knowledge-based Question and Answer\n",
    "#### Creating a Large Language Question-Answering Model\n",
    "Below, we create the OpenAI or Azure large language question-answering model respectively using the AzureChatOpenAI and ChatOpenAI methods from Langchain."
   ],
   "metadata": {
    "collapsed": false
   },
   "id": "89077cc9763d5dd0"
  },
  {
   "cell_type": "code",
   "execution_count": 8,
   "outputs": [],
   "source": [
    "# llm = AzureChatOpenAI(\n",
    "#     openai_api_base=\"x x x\",\n",
    "#     openai_api_version=\"xxx\",\n",
    "#     deployment_name=\"xxx\",\n",
    "#     openai_api_key=\"xxx\",\n",
    "#     openai_api_type=\"azure\"\n",
    "# )\n",
    "\n",
    "llm = ChatOpenAI(\n",
    "    openai_api_key=\"xxx\",\n",
    "    model_name=\"gpt-3.5-turbo-16k\"\n",
    ")"
   ],
   "metadata": {
    "collapsed": false,
    "ExecuteTime": {
     "end_time": "2023-09-22T08:42:58.379925Z",
     "start_time": "2023-09-22T08:42:58.375609Z"
    }
   },
   "id": "c9f2c42e9884f628"
  },
  {
   "cell_type": "markdown",
   "source": [
    "### Acquiring Related Knowledge Based on the Question："
   ],
   "metadata": {
    "collapsed": false
   },
   "id": "a4c5d73016a9db0c"
  },
  {
   "cell_type": "code",
   "execution_count": 12,
   "outputs": [],
   "source": [
    "query = \"Please introduce hippo\"\n",
    "# query = \"Please introduce Hippo Core Architecture\"\n",
    "# query = \"What operations does the Hippo Vector Database support for vector data?\"\n",
    "# query = \"Does Hippo use hardware acceleration technology? Briefly introduce hardware acceleration technology.\"\n",
    "\n",
    "\n",
    "# Retrieve similar content from the knowledge base,fetch the top two most similar texts.\n",
    "res = vector_store.similarity_search(query, 2)\n",
    "content_list = [item.page_content for item in res]\n",
    "text = ''.join(content_list)"
   ],
   "metadata": {
    "collapsed": false,
    "ExecuteTime": {
     "end_time": "2023-09-22T08:46:11.245229Z",
     "start_time": "2023-09-22T08:46:04.205901Z"
    }
   },
   "id": "8656e80519da1f97"
  },
  {
   "cell_type": "markdown",
   "source": [
    "### Constructing a Prompt Template"
   ],
   "metadata": {
    "collapsed": false
   },
   "id": "e5adbaaa7086d1ae"
  },
  {
   "cell_type": "code",
   "execution_count": 13,
   "outputs": [],
   "source": [
    "prompt = f\"\"\"\n",
    "Please use the content of the following [Article] to answer my question. If you don't know, please say you don't know, and the answer should be concise.\"\n",
    "[Article]:{text}\n",
    "Please answer this question in conjunction with the above article:{query}\n",
    "\"\"\""
   ],
   "metadata": {
    "collapsed": false,
    "ExecuteTime": {
     "end_time": "2023-09-22T08:46:11.257086Z",
     "start_time": "2023-09-22T08:46:11.249065Z"
    }
   },
   "id": "b915d3001a2741c1"
  },
  {
   "cell_type": "markdown",
   "source": [
    "### Waiting for the Large Language Model to Generate an Answer"
   ],
   "metadata": {
    "collapsed": false
   },
   "id": "b36b6a9adbec8a82"
  },
  {
   "cell_type": "code",
   "execution_count": 14,
   "outputs": [
    {
     "name": "stdout",
     "output_type": "stream",
     "text": [
      "response_with_hippo:The Hippo Vector Database supports operations such as KNN retrieval, range retrieval, coarse vector filtering, KV queries, bulk retrieval, and primary key retrieval for vector data.\n",
      "==========================================\n",
      "response_without_hippo:The Hippo Vector Database supports various operations for vector data, including:\n",
      "\n",
      "1. Data ingestion: It allows users to import vector data into the database from various sources such as files (e.g., GeoJSON, Shapefile), databases (e.g., PostgreSQL, MySQL), or streaming services.\n",
      "\n",
      "2. Data storage: The database efficiently stores the vector data, optimizing storage space and retrieval performance.\n",
      "\n",
      "3. Data indexing: It creates indexes on vector data attributes to improve query performance and enable faster spatial operations.\n",
      "\n",
      "4. Spatial queries: The database supports spatial queries like point-in-polygon, nearest neighbor search, spatial joins, and spatial aggregations.\n",
      "\n",
      "5. Geometric operations: Users can perform geometric operations on vector data, such as buffer, union, intersection, difference, and simplification.\n",
      "\n",
      "6. Spatial analysis: It provides capabilities for spatial analysis tasks like overlay analysis, density analysis, spatial clustering, and hotspot detection.\n",
      "\n",
      "7. Data visualization: The database often integrates with visualization libraries or tools to facilitate the visualization of vector data in maps or other graphical representations.\n",
      "\n",
      "8. Data transformation: Users can transform vector data by applying geometric operations, projections, coordinate system conversions, or attribute modifications.\n",
      "\n",
      "9. Data export: The database allows users to export vector data to various formats, making it compatible with other GIS software or systems.\n",
      "\n",
      "10. Data versioning and management: It supports versioning and managing changes to vector data, enabling historical analysis or tracking modifications over time.\n",
      "\n",
      "11. Distributed processing: The database may provide distributed processing capabilities, allowing large-scale vector data processing or parallel execution of spatial operations.\n",
      "\n",
      "12. Integration with other tools: It often integrates with other GIS tools, libraries, or frameworks, enabling seamless interoperability and enhancing functionality.\n",
      "\n",
      "These operations make the Hippo Vector Database a versatile tool for managing, analyzing, and visualizing vector data in various spatial applications.\n"
     ]
    }
   ],
   "source": [
    "response_with_hippo = llm.predict(prompt)\n",
    "print(f\"response_with_hippo:{response_with_hippo}\")\n",
    "response = llm.predict(query)\n",
    "print(\"==========================================\")\n",
    "print(f\"response_without_hippo:{response}\")"
   ],
   "metadata": {
    "collapsed": false,
    "ExecuteTime": {
     "end_time": "2023-09-22T08:46:36.396116Z",
     "start_time": "2023-09-22T08:46:11.261977Z"
    }
   },
   "id": "58eb5d2396321001"
  }
 ],
 "metadata": {
  "kernelspec": {
   "display_name": "Python 3",
   "language": "python",
   "name": "python3"
  },
  "language_info": {
   "codemirror_mode": {
    "name": "ipython",
    "version": 2
   },
   "file_extension": ".py",
   "mimetype": "text/x-python",
   "name": "python",
   "nbconvert_exporter": "python",
   "pygments_lexer": "ipython2",
   "version": "2.7.6"
  }
 },
 "nbformat": 4,
 "nbformat_minor": 5
}
